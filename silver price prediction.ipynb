{
 "cells": [
  {
   "cell_type": "code",
   "execution_count": 1,
   "metadata": {},
   "outputs": [],
   "source": [
    "#SILVER PRICE PREDICTION IN INDIA\n",
    "#IMPORTING LIBRARIES\n",
    "#import the required libraries\n",
    "import numpy as np\n",
    "import pandas as pd\n",
    "import seaborn as sns\n",
    "import matplotlib.pyplot as plt"
   ]
  },
  {
   "cell_type": "code",
   "execution_count": 2,
   "metadata": {},
   "outputs": [],
   "source": [
    "#load the data file\n",
    "sil=pd.read_csv(r\"C:\\Users\\91995\\Downloads\\DataScience-Project-on-Silver-Prices-prediction-in-India-main\\silver.csv\")"
   ]
  },
  {
   "cell_type": "code",
   "execution_count": 3,
   "metadata": {},
   "outputs": [
    {
     "data": {
      "text/html": [
       "<div>\n",
       "<style scoped>\n",
       "    .dataframe tbody tr th:only-of-type {\n",
       "        vertical-align: middle;\n",
       "    }\n",
       "\n",
       "    .dataframe tbody tr th {\n",
       "        vertical-align: top;\n",
       "    }\n",
       "\n",
       "    .dataframe thead th {\n",
       "        text-align: right;\n",
       "    }\n",
       "</style>\n",
       "<table border=\"1\" class=\"dataframe\">\n",
       "  <thead>\n",
       "    <tr style=\"text-align: right;\">\n",
       "      <th></th>\n",
       "      <th>Date</th>\n",
       "      <th>Open</th>\n",
       "      <th>High</th>\n",
       "      <th>Low</th>\n",
       "      <th>Close</th>\n",
       "      <th>Volume</th>\n",
       "      <th>Currency</th>\n",
       "    </tr>\n",
       "  </thead>\n",
       "  <tbody>\n",
       "    <tr>\n",
       "      <td>0</td>\n",
       "      <td>2000-01-04</td>\n",
       "      <td>5.420</td>\n",
       "      <td>5.420</td>\n",
       "      <td>5.32</td>\n",
       "      <td>5.375</td>\n",
       "      <td>27560</td>\n",
       "      <td>USD</td>\n",
       "    </tr>\n",
       "    <tr>\n",
       "      <td>1</td>\n",
       "      <td>2000-01-05</td>\n",
       "      <td>5.375</td>\n",
       "      <td>5.380</td>\n",
       "      <td>5.16</td>\n",
       "      <td>5.210</td>\n",
       "      <td>13515</td>\n",
       "      <td>USD</td>\n",
       "    </tr>\n",
       "    <tr>\n",
       "      <td>2</td>\n",
       "      <td>2000-01-06</td>\n",
       "      <td>5.205</td>\n",
       "      <td>5.215</td>\n",
       "      <td>5.15</td>\n",
       "      <td>5.167</td>\n",
       "      <td>4729</td>\n",
       "      <td>USD</td>\n",
       "    </tr>\n",
       "    <tr>\n",
       "      <td>3</td>\n",
       "      <td>2000-01-07</td>\n",
       "      <td>5.170</td>\n",
       "      <td>5.215</td>\n",
       "      <td>5.15</td>\n",
       "      <td>5.195</td>\n",
       "      <td>5375</td>\n",
       "      <td>USD</td>\n",
       "    </tr>\n",
       "    <tr>\n",
       "      <td>4</td>\n",
       "      <td>2000-01-10</td>\n",
       "      <td>5.190</td>\n",
       "      <td>5.230</td>\n",
       "      <td>5.17</td>\n",
       "      <td>5.190</td>\n",
       "      <td>4278</td>\n",
       "      <td>USD</td>\n",
       "    </tr>\n",
       "  </tbody>\n",
       "</table>\n",
       "</div>"
      ],
      "text/plain": [
       "         Date   Open   High   Low  Close  Volume Currency\n",
       "0  2000-01-04  5.420  5.420  5.32  5.375   27560      USD\n",
       "1  2000-01-05  5.375  5.380  5.16  5.210   13515      USD\n",
       "2  2000-01-06  5.205  5.215  5.15  5.167    4729      USD\n",
       "3  2000-01-07  5.170  5.215  5.15  5.195    5375      USD\n",
       "4  2000-01-10  5.190  5.230  5.17  5.190    4278      USD"
      ]
     },
     "execution_count": 3,
     "metadata": {},
     "output_type": "execute_result"
    }
   ],
   "source": [
    "#Load the top 5 records of data\n",
    "sil.head()"
   ]
  },
  {
   "cell_type": "code",
   "execution_count": 4,
   "metadata": {},
   "outputs": [
    {
     "data": {
      "text/html": [
       "<div>\n",
       "<style scoped>\n",
       "    .dataframe tbody tr th:only-of-type {\n",
       "        vertical-align: middle;\n",
       "    }\n",
       "\n",
       "    .dataframe tbody tr th {\n",
       "        vertical-align: top;\n",
       "    }\n",
       "\n",
       "    .dataframe thead th {\n",
       "        text-align: right;\n",
       "    }\n",
       "</style>\n",
       "<table border=\"1\" class=\"dataframe\">\n",
       "  <thead>\n",
       "    <tr style=\"text-align: right;\">\n",
       "      <th></th>\n",
       "      <th>Date</th>\n",
       "      <th>Open</th>\n",
       "      <th>High</th>\n",
       "      <th>Low</th>\n",
       "      <th>Close</th>\n",
       "      <th>Volume</th>\n",
       "      <th>Currency</th>\n",
       "    </tr>\n",
       "  </thead>\n",
       "  <tbody>\n",
       "    <tr>\n",
       "      <td>5703</td>\n",
       "      <td>2022-08-29</td>\n",
       "      <td>18.770</td>\n",
       "      <td>18.770</td>\n",
       "      <td>18.300</td>\n",
       "      <td>18.557</td>\n",
       "      <td>33392</td>\n",
       "      <td>USD</td>\n",
       "    </tr>\n",
       "    <tr>\n",
       "      <td>5704</td>\n",
       "      <td>2022-08-30</td>\n",
       "      <td>18.565</td>\n",
       "      <td>18.585</td>\n",
       "      <td>18.120</td>\n",
       "      <td>18.159</td>\n",
       "      <td>5841</td>\n",
       "      <td>USD</td>\n",
       "    </tr>\n",
       "    <tr>\n",
       "      <td>5705</td>\n",
       "      <td>2022-08-31</td>\n",
       "      <td>18.160</td>\n",
       "      <td>18.240</td>\n",
       "      <td>17.705</td>\n",
       "      <td>17.762</td>\n",
       "      <td>618</td>\n",
       "      <td>USD</td>\n",
       "    </tr>\n",
       "    <tr>\n",
       "      <td>5706</td>\n",
       "      <td>2022-09-01</td>\n",
       "      <td>17.715</td>\n",
       "      <td>17.715</td>\n",
       "      <td>17.320</td>\n",
       "      <td>17.551</td>\n",
       "      <td>230</td>\n",
       "      <td>USD</td>\n",
       "    </tr>\n",
       "    <tr>\n",
       "      <td>5707</td>\n",
       "      <td>2022-09-02</td>\n",
       "      <td>17.672</td>\n",
       "      <td>18.163</td>\n",
       "      <td>17.625</td>\n",
       "      <td>17.900</td>\n",
       "      <td>0</td>\n",
       "      <td>USD</td>\n",
       "    </tr>\n",
       "  </tbody>\n",
       "</table>\n",
       "</div>"
      ],
      "text/plain": [
       "            Date    Open    High     Low   Close  Volume Currency\n",
       "5703  2022-08-29  18.770  18.770  18.300  18.557   33392      USD\n",
       "5704  2022-08-30  18.565  18.585  18.120  18.159    5841      USD\n",
       "5705  2022-08-31  18.160  18.240  17.705  17.762     618      USD\n",
       "5706  2022-09-01  17.715  17.715  17.320  17.551     230      USD\n",
       "5707  2022-09-02  17.672  18.163  17.625  17.900       0      USD"
      ]
     },
     "execution_count": 4,
     "metadata": {},
     "output_type": "execute_result"
    }
   ],
   "source": [
    "#Load the last 5 records of data\n",
    "sil.tail()"
   ]
  },
  {
   "cell_type": "code",
   "execution_count": 5,
   "metadata": {},
   "outputs": [
    {
     "data": {
      "text/plain": [
       "(5708, 7)"
      ]
     },
     "execution_count": 5,
     "metadata": {},
     "output_type": "execute_result"
    }
   ],
   "source": [
    "#dataset size\n",
    "sil.shape"
   ]
  },
  {
   "cell_type": "code",
   "execution_count": 6,
   "metadata": {},
   "outputs": [
    {
     "data": {
      "text/plain": [
       "Index(['Date', 'Open', 'High', 'Low', 'Close', 'Volume', 'Currency'], dtype='object')"
      ]
     },
     "execution_count": 6,
     "metadata": {},
     "output_type": "execute_result"
    }
   ],
   "source": [
    "#displaying column names\n",
    "sil.columns"
   ]
  },
  {
   "cell_type": "code",
   "execution_count": 7,
   "metadata": {},
   "outputs": [
    {
     "data": {
      "text/plain": [
       "array([['2000-01-04', 5.42, 5.42, ..., 5.375, 27560, 'USD'],\n",
       "       ['2000-01-05', 5.375, 5.38, ..., 5.21, 13515, 'USD'],\n",
       "       ['2000-01-06', 5.205, 5.215, ..., 5.167000000000001, 4729, 'USD'],\n",
       "       ...,\n",
       "       ['2022-08-31', 18.16, 18.24, ..., 17.762, 618, 'USD'],\n",
       "       ['2022-09-01', 17.715, 17.715, ..., 17.551, 230, 'USD'],\n",
       "       ['2022-09-02', 17.672, 18.163, ..., 17.9, 0, 'USD']], dtype=object)"
      ]
     },
     "execution_count": 7,
     "metadata": {},
     "output_type": "execute_result"
    }
   ],
   "source": [
    "#displaying values\n",
    "sil.values"
   ]
  },
  {
   "cell_type": "code",
   "execution_count": 8,
   "metadata": {},
   "outputs": [
    {
     "data": {
      "text/html": [
       "<div>\n",
       "<style scoped>\n",
       "    .dataframe tbody tr th:only-of-type {\n",
       "        vertical-align: middle;\n",
       "    }\n",
       "\n",
       "    .dataframe tbody tr th {\n",
       "        vertical-align: top;\n",
       "    }\n",
       "\n",
       "    .dataframe thead th {\n",
       "        text-align: right;\n",
       "    }\n",
       "</style>\n",
       "<table border=\"1\" class=\"dataframe\">\n",
       "  <thead>\n",
       "    <tr style=\"text-align: right;\">\n",
       "      <th></th>\n",
       "      <th>Open</th>\n",
       "      <th>High</th>\n",
       "      <th>Low</th>\n",
       "      <th>Close</th>\n",
       "      <th>Volume</th>\n",
       "    </tr>\n",
       "  </thead>\n",
       "  <tbody>\n",
       "    <tr>\n",
       "      <td>count</td>\n",
       "      <td>5708.000000</td>\n",
       "      <td>5708.000000</td>\n",
       "      <td>5708.000000</td>\n",
       "      <td>5708.000000</td>\n",
       "      <td>5708.000000</td>\n",
       "    </tr>\n",
       "    <tr>\n",
       "      <td>mean</td>\n",
       "      <td>15.913846</td>\n",
       "      <td>16.132912</td>\n",
       "      <td>15.671124</td>\n",
       "      <td>15.905674</td>\n",
       "      <td>42003.550981</td>\n",
       "    </tr>\n",
       "    <tr>\n",
       "      <td>std</td>\n",
       "      <td>8.503551</td>\n",
       "      <td>8.642820</td>\n",
       "      <td>8.336264</td>\n",
       "      <td>8.492578</td>\n",
       "      <td>32912.765504</td>\n",
       "    </tr>\n",
       "    <tr>\n",
       "      <td>min</td>\n",
       "      <td>4.020000</td>\n",
       "      <td>4.050000</td>\n",
       "      <td>4.015000</td>\n",
       "      <td>4.028000</td>\n",
       "      <td>0.000000</td>\n",
       "    </tr>\n",
       "    <tr>\n",
       "      <td>25%</td>\n",
       "      <td>7.648750</td>\n",
       "      <td>7.758750</td>\n",
       "      <td>7.565000</td>\n",
       "      <td>7.647500</td>\n",
       "      <td>16191.000000</td>\n",
       "    </tr>\n",
       "    <tr>\n",
       "      <td>50%</td>\n",
       "      <td>16.032500</td>\n",
       "      <td>16.227500</td>\n",
       "      <td>15.815000</td>\n",
       "      <td>16.048000</td>\n",
       "      <td>35335.500000</td>\n",
       "    </tr>\n",
       "    <tr>\n",
       "      <td>75%</td>\n",
       "      <td>19.865000</td>\n",
       "      <td>20.140000</td>\n",
       "      <td>19.620000</td>\n",
       "      <td>19.847250</td>\n",
       "      <td>59418.750000</td>\n",
       "    </tr>\n",
       "    <tr>\n",
       "      <td>max</td>\n",
       "      <td>48.490000</td>\n",
       "      <td>49.820000</td>\n",
       "      <td>47.550000</td>\n",
       "      <td>48.599000</td>\n",
       "      <td>355275.000000</td>\n",
       "    </tr>\n",
       "  </tbody>\n",
       "</table>\n",
       "</div>"
      ],
      "text/plain": [
       "              Open         High          Low        Close         Volume\n",
       "count  5708.000000  5708.000000  5708.000000  5708.000000    5708.000000\n",
       "mean     15.913846    16.132912    15.671124    15.905674   42003.550981\n",
       "std       8.503551     8.642820     8.336264     8.492578   32912.765504\n",
       "min       4.020000     4.050000     4.015000     4.028000       0.000000\n",
       "25%       7.648750     7.758750     7.565000     7.647500   16191.000000\n",
       "50%      16.032500    16.227500    15.815000    16.048000   35335.500000\n",
       "75%      19.865000    20.140000    19.620000    19.847250   59418.750000\n",
       "max      48.490000    49.820000    47.550000    48.599000  355275.000000"
      ]
     },
     "execution_count": 8,
     "metadata": {},
     "output_type": "execute_result"
    }
   ],
   "source": [
    "#check the descriptive statistics of numeric values\n",
    "sil.describe()"
   ]
  },
  {
   "cell_type": "code",
   "execution_count": 9,
   "metadata": {},
   "outputs": [
    {
     "data": {
      "text/plain": [
       "Date         object\n",
       "Open        float64\n",
       "High        float64\n",
       "Low         float64\n",
       "Close       float64\n",
       "Volume        int64\n",
       "Currency     object\n",
       "dtype: object"
      ]
     },
     "execution_count": 9,
     "metadata": {},
     "output_type": "execute_result"
    }
   ],
   "source": [
    "#displaying columns datatypes\n",
    "sil.dtypes"
   ]
  },
  {
   "cell_type": "code",
   "execution_count": 10,
   "metadata": {},
   "outputs": [
    {
     "data": {
      "text/plain": [
       "Date        0\n",
       "Open        0\n",
       "High        0\n",
       "Low         0\n",
       "Close       0\n",
       "Volume      0\n",
       "Currency    0\n",
       "dtype: int64"
      ]
     },
     "execution_count": 10,
     "metadata": {},
     "output_type": "execute_result"
    }
   ],
   "source": [
    "#DATA PROCESSING\n",
    "#Checking for null values\n",
    "sil.isnull().sum()"
   ]
  },
  {
   "cell_type": "code",
   "execution_count": 11,
   "metadata": {},
   "outputs": [
    {
     "data": {
      "text/plain": [
       "0"
      ]
     },
     "execution_count": 11,
     "metadata": {},
     "output_type": "execute_result"
    }
   ],
   "source": [
    "#There are no null values\n",
    "#Checking for duplicate values\n",
    "sil.duplicated().sum()"
   ]
  },
  {
   "cell_type": "code",
   "execution_count": 12,
   "metadata": {},
   "outputs": [],
   "source": [
    "#No duplicated values\n",
    "#Volume should be float amount, so convert that column to float datatype\n",
    "sil['Volume']=sil['Volume'].astype(float)"
   ]
  },
  {
   "cell_type": "code",
   "execution_count": 13,
   "metadata": {},
   "outputs": [
    {
     "name": "stdout",
     "output_type": "stream",
     "text": [
      "<class 'pandas.core.frame.DataFrame'>\n",
      "RangeIndex: 5708 entries, 0 to 5707\n",
      "Data columns (total 7 columns):\n",
      "Date        5708 non-null object\n",
      "Open        5708 non-null float64\n",
      "High        5708 non-null float64\n",
      "Low         5708 non-null float64\n",
      "Close       5708 non-null float64\n",
      "Volume      5708 non-null float64\n",
      "Currency    5708 non-null object\n",
      "dtypes: float64(5), object(2)\n",
      "memory usage: 312.3+ KB\n"
     ]
    }
   ],
   "source": [
    "#Info about the dataframe\n",
    "sil.info()"
   ]
  },
  {
   "cell_type": "code",
   "execution_count": 14,
   "metadata": {},
   "outputs": [
    {
     "data": {
      "text/plain": [
       "Date        0\n",
       "Open        0\n",
       "High        0\n",
       "Low         0\n",
       "Close       0\n",
       "Volume      0\n",
       "Currency    0\n",
       "dtype: int64"
      ]
     },
     "execution_count": 14,
     "metadata": {},
     "output_type": "execute_result"
    }
   ],
   "source": [
    "#Checking NA values\n",
    "sil.isna().sum()"
   ]
  },
  {
   "cell_type": "code",
   "execution_count": 15,
   "metadata": {},
   "outputs": [
    {
     "data": {
      "text/html": [
       "<div>\n",
       "<style scoped>\n",
       "    .dataframe tbody tr th:only-of-type {\n",
       "        vertical-align: middle;\n",
       "    }\n",
       "\n",
       "    .dataframe tbody tr th {\n",
       "        vertical-align: top;\n",
       "    }\n",
       "\n",
       "    .dataframe thead th {\n",
       "        text-align: right;\n",
       "    }\n",
       "</style>\n",
       "<table border=\"1\" class=\"dataframe\">\n",
       "  <thead>\n",
       "    <tr style=\"text-align: right;\">\n",
       "      <th></th>\n",
       "      <th>Date</th>\n",
       "      <th>Open</th>\n",
       "      <th>High</th>\n",
       "      <th>Low</th>\n",
       "      <th>Close</th>\n",
       "      <th>Volume</th>\n",
       "      <th>Currency</th>\n",
       "    </tr>\n",
       "  </thead>\n",
       "  <tbody>\n",
       "    <tr>\n",
       "      <td>0</td>\n",
       "      <td>2000-01-04</td>\n",
       "      <td>5.420</td>\n",
       "      <td>5.420</td>\n",
       "      <td>5.320</td>\n",
       "      <td>5.375</td>\n",
       "      <td>27560.0</td>\n",
       "      <td>USD</td>\n",
       "    </tr>\n",
       "    <tr>\n",
       "      <td>1</td>\n",
       "      <td>2000-01-05</td>\n",
       "      <td>5.375</td>\n",
       "      <td>5.380</td>\n",
       "      <td>5.160</td>\n",
       "      <td>5.210</td>\n",
       "      <td>13515.0</td>\n",
       "      <td>USD</td>\n",
       "    </tr>\n",
       "    <tr>\n",
       "      <td>2</td>\n",
       "      <td>2000-01-06</td>\n",
       "      <td>5.205</td>\n",
       "      <td>5.215</td>\n",
       "      <td>5.150</td>\n",
       "      <td>5.167</td>\n",
       "      <td>4729.0</td>\n",
       "      <td>USD</td>\n",
       "    </tr>\n",
       "    <tr>\n",
       "      <td>3</td>\n",
       "      <td>2000-01-07</td>\n",
       "      <td>5.170</td>\n",
       "      <td>5.215</td>\n",
       "      <td>5.150</td>\n",
       "      <td>5.195</td>\n",
       "      <td>5375.0</td>\n",
       "      <td>USD</td>\n",
       "    </tr>\n",
       "    <tr>\n",
       "      <td>4</td>\n",
       "      <td>2000-01-10</td>\n",
       "      <td>5.190</td>\n",
       "      <td>5.230</td>\n",
       "      <td>5.170</td>\n",
       "      <td>5.190</td>\n",
       "      <td>4278.0</td>\n",
       "      <td>USD</td>\n",
       "    </tr>\n",
       "    <tr>\n",
       "      <td>...</td>\n",
       "      <td>...</td>\n",
       "      <td>...</td>\n",
       "      <td>...</td>\n",
       "      <td>...</td>\n",
       "      <td>...</td>\n",
       "      <td>...</td>\n",
       "      <td>...</td>\n",
       "    </tr>\n",
       "    <tr>\n",
       "      <td>5703</td>\n",
       "      <td>2022-08-29</td>\n",
       "      <td>18.770</td>\n",
       "      <td>18.770</td>\n",
       "      <td>18.300</td>\n",
       "      <td>18.557</td>\n",
       "      <td>33392.0</td>\n",
       "      <td>USD</td>\n",
       "    </tr>\n",
       "    <tr>\n",
       "      <td>5704</td>\n",
       "      <td>2022-08-30</td>\n",
       "      <td>18.565</td>\n",
       "      <td>18.585</td>\n",
       "      <td>18.120</td>\n",
       "      <td>18.159</td>\n",
       "      <td>5841.0</td>\n",
       "      <td>USD</td>\n",
       "    </tr>\n",
       "    <tr>\n",
       "      <td>5705</td>\n",
       "      <td>2022-08-31</td>\n",
       "      <td>18.160</td>\n",
       "      <td>18.240</td>\n",
       "      <td>17.705</td>\n",
       "      <td>17.762</td>\n",
       "      <td>618.0</td>\n",
       "      <td>USD</td>\n",
       "    </tr>\n",
       "    <tr>\n",
       "      <td>5706</td>\n",
       "      <td>2022-09-01</td>\n",
       "      <td>17.715</td>\n",
       "      <td>17.715</td>\n",
       "      <td>17.320</td>\n",
       "      <td>17.551</td>\n",
       "      <td>230.0</td>\n",
       "      <td>USD</td>\n",
       "    </tr>\n",
       "    <tr>\n",
       "      <td>5707</td>\n",
       "      <td>2022-09-02</td>\n",
       "      <td>17.672</td>\n",
       "      <td>18.163</td>\n",
       "      <td>17.625</td>\n",
       "      <td>17.900</td>\n",
       "      <td>0.0</td>\n",
       "      <td>USD</td>\n",
       "    </tr>\n",
       "  </tbody>\n",
       "</table>\n",
       "<p>5708 rows × 7 columns</p>\n",
       "</div>"
      ],
      "text/plain": [
       "            Date    Open    High     Low   Close   Volume Currency\n",
       "0     2000-01-04   5.420   5.420   5.320   5.375  27560.0      USD\n",
       "1     2000-01-05   5.375   5.380   5.160   5.210  13515.0      USD\n",
       "2     2000-01-06   5.205   5.215   5.150   5.167   4729.0      USD\n",
       "3     2000-01-07   5.170   5.215   5.150   5.195   5375.0      USD\n",
       "4     2000-01-10   5.190   5.230   5.170   5.190   4278.0      USD\n",
       "...          ...     ...     ...     ...     ...      ...      ...\n",
       "5703  2022-08-29  18.770  18.770  18.300  18.557  33392.0      USD\n",
       "5704  2022-08-30  18.565  18.585  18.120  18.159   5841.0      USD\n",
       "5705  2022-08-31  18.160  18.240  17.705  17.762    618.0      USD\n",
       "5706  2022-09-01  17.715  17.715  17.320  17.551    230.0      USD\n",
       "5707  2022-09-02  17.672  18.163  17.625  17.900      0.0      USD\n",
       "\n",
       "[5708 rows x 7 columns]"
      ]
     },
     "execution_count": 15,
     "metadata": {},
     "output_type": "execute_result"
    }
   ],
   "source": [
    "#There are no NA values\n",
    "sil"
   ]
  },
  {
   "cell_type": "code",
   "execution_count": 16,
   "metadata": {},
   "outputs": [
    {
     "data": {
      "text/plain": [
       "Text(0, 0.5, 'close')"
      ]
     },
     "execution_count": 16,
     "metadata": {},
     "output_type": "execute_result"
    },
    {
     "data": {
      "image/png": "[encoded data removed]",
      "text/plain": [
       "<Figure size 432x288 with 1 Axes>"
      ]
     },
     "metadata": {
      "needs_background": "light"
     },
     "output_type": "display_data"
    }
   ],
   "source": [
    "#DATA VISUALIZATION\n",
    "#Plotting between open price and close price\n",
    "plt.scatter(sil['Open'],sil['Close'])\n",
    "plt.xlabel('open')\n",
    "plt.ylabel('close')"
   ]
  },
  {
   "cell_type": "code",
   "execution_count": 17,
   "metadata": {},
   "outputs": [
    {
     "data": {
      "text/plain": [
       "Text(0, 0.5, 'close')"
      ]
     },
     "execution_count": 17,
     "metadata": {},
     "output_type": "execute_result"
    },
    {
     "data": {
      "image/png": "[encoded data removed]",
      "text/plain": [
       "<Figure size 432x288 with 1 Axes>"
      ]
     },
     "metadata": {
      "needs_background": "light"
     },
     "output_type": "display_data"
    }
   ],
   "source": [
    "#Plotting between high and close\n",
    "plt.scatter(sil['High'],sil['Close'])\n",
    "plt.xlabel('high')\n",
    "plt.ylabel('close')\n"
   ]
  },
  {
   "cell_type": "code",
   "execution_count": 18,
   "metadata": {},
   "outputs": [
    {
     "data": {
      "text/plain": [
       "Text(0, 0.5, 'close')"
      ]
     },
     "execution_count": 18,
     "metadata": {},
     "output_type": "execute_result"
    },
    {
     "data": {
      "image/png": "[encoded data removed]",
      "text/plain": [
       "<Figure size 432x288 with 1 Axes>"
      ]
     },
     "metadata": {
      "needs_background": "light"
     },
     "output_type": "display_data"
    }
   ],
   "source": [
    "#Plotting between low and close\n",
    "plt.scatter(sil['Low'],sil['Close'])\n",
    "plt.xlabel('Low')\n",
    "plt.ylabel('close')"
   ]
  },
  {
   "cell_type": "code",
   "execution_count": 19,
   "metadata": {},
   "outputs": [
    {
     "data": {
      "text/plain": [
       "Text(0, 0.5, 'close')"
      ]
     },
     "execution_count": 19,
     "metadata": {},
     "output_type": "execute_result"
    },
    {
     "data": {
      "image/png": "[encoded data removed]",
      "text/plain": [
       "<Figure size 432x288 with 1 Axes>"
      ]
     },
     "metadata": {
      "needs_background": "light"
     },
     "output_type": "display_data"
    }
   ],
   "source": [
    "#Plotting between Volume and close\n",
    "plt.scatter(sil['Volume'],sil['Close'])\n",
    "plt.xlabel('volume')\n",
    "plt.ylabel('close')"
   ]
  },
  {
   "cell_type": "code",
   "execution_count": 20,
   "metadata": {},
   "outputs": [
    {
     "data": {
      "text/plain": [
       "Text(0, 0.5, 'close')"
      ]
     },
     "execution_count": 20,
     "metadata": {},
     "output_type": "execute_result"
    },
    {
     "data": {
      "image/png": "[encoded data removed]",
      "text/plain": [
       "<Figure size 432x288 with 1 Axes>"
      ]
     },
     "metadata": {
      "needs_background": "light"
     },
     "output_type": "display_data"
    }
   ],
   "source": [
    "plt.plot(sil['Volume'],sil['Close'])\n",
    "plt.xlabel('volume')\n",
    "plt.ylabel('close')"
   ]
  },
  {
   "cell_type": "code",
   "execution_count": 21,
   "metadata": {},
   "outputs": [
    {
     "data": {
      "text/plain": [
       "(array([1479.,  423., 1669.,  950.,  482.,  331.,  248.,   76.,   42.,\n",
       "           8.]),\n",
       " array([ 4.028 ,  8.4851, 12.9422, 17.3993, 21.8564, 26.3135, 30.7706,\n",
       "        35.2277, 39.6848, 44.1419, 48.599 ]),\n",
       " <a list of 10 Patch objects>)"
      ]
     },
     "execution_count": 21,
     "metadata": {},
     "output_type": "execute_result"
    },
    {
     "data": {
      "image/png": "[encoded data removed]",
      "text/plain": [
       "<Figure size 432x288 with 1 Axes>"
      ]
     },
     "metadata": {
      "needs_background": "light"
     },
     "output_type": "display_data"
    }
   ],
   "source": [
    "plt.hist(sil['Close'])"
   ]
  },
  {
   "cell_type": "code",
   "execution_count": 22,
   "metadata": {},
   "outputs": [
    {
     "data": {
      "text/plain": [
       "{'whiskers': [<matplotlib.lines.Line2D at 0x23a470f6e88>,\n",
       "  <matplotlib.lines.Line2D at 0x23a470f6a48>],\n",
       " 'caps': [<matplotlib.lines.Line2D at 0x23a470fee48>,\n",
       "  <matplotlib.lines.Line2D at 0x23a470feb88>],\n",
       " 'boxes': [<matplotlib.lines.Line2D at 0x23a470f6388>],\n",
       " 'medians': [<matplotlib.lines.Line2D at 0x23a47104dc8>],\n",
       " 'fliers': [<matplotlib.lines.Line2D at 0x23a47104b08>],\n",
       " 'means': []}"
      ]
     },
     "execution_count": 22,
     "metadata": {},
     "output_type": "execute_result"
    },
    {
     "data": {
      "image/png": "[encoded data removed]",
      "text/plain": [
       "<Figure size 432x288 with 1 Axes>"
      ]
     },
     "metadata": {
      "needs_background": "light"
     },
     "output_type": "display_data"
    }
   ],
   "source": [
    "plt.boxplot(sil['Close'])"
   ]
  },
  {
   "cell_type": "code",
   "execution_count": 23,
   "metadata": {},
   "outputs": [
    {
     "data": {
      "text/html": [
       "<div>\n",
       "<style scoped>\n",
       "    .dataframe tbody tr th:only-of-type {\n",
       "        vertical-align: middle;\n",
       "    }\n",
       "\n",
       "    .dataframe tbody tr th {\n",
       "        vertical-align: top;\n",
       "    }\n",
       "\n",
       "    .dataframe thead th {\n",
       "        text-align: right;\n",
       "    }\n",
       "</style>\n",
       "<table border=\"1\" class=\"dataframe\">\n",
       "  <thead>\n",
       "    <tr style=\"text-align: right;\">\n",
       "      <th></th>\n",
       "      <th>Open</th>\n",
       "      <th>High</th>\n",
       "      <th>Low</th>\n",
       "      <th>Close</th>\n",
       "      <th>Volume</th>\n",
       "    </tr>\n",
       "  </thead>\n",
       "  <tbody>\n",
       "    <tr>\n",
       "      <td>Open</td>\n",
       "      <td>1.000000</td>\n",
       "      <td>0.999638</td>\n",
       "      <td>0.999290</td>\n",
       "      <td>0.999091</td>\n",
       "      <td>0.545859</td>\n",
       "    </tr>\n",
       "    <tr>\n",
       "      <td>High</td>\n",
       "      <td>0.999638</td>\n",
       "      <td>1.000000</td>\n",
       "      <td>0.999180</td>\n",
       "      <td>0.999483</td>\n",
       "      <td>0.548576</td>\n",
       "    </tr>\n",
       "    <tr>\n",
       "      <td>Low</td>\n",
       "      <td>0.999290</td>\n",
       "      <td>0.999180</td>\n",
       "      <td>1.000000</td>\n",
       "      <td>0.999625</td>\n",
       "      <td>0.538985</td>\n",
       "    </tr>\n",
       "    <tr>\n",
       "      <td>Close</td>\n",
       "      <td>0.999091</td>\n",
       "      <td>0.999483</td>\n",
       "      <td>0.999625</td>\n",
       "      <td>1.000000</td>\n",
       "      <td>0.542264</td>\n",
       "    </tr>\n",
       "    <tr>\n",
       "      <td>Volume</td>\n",
       "      <td>0.545859</td>\n",
       "      <td>0.548576</td>\n",
       "      <td>0.538985</td>\n",
       "      <td>0.542264</td>\n",
       "      <td>1.000000</td>\n",
       "    </tr>\n",
       "  </tbody>\n",
       "</table>\n",
       "</div>"
      ],
      "text/plain": [
       "            Open      High       Low     Close    Volume\n",
       "Open    1.000000  0.999638  0.999290  0.999091  0.545859\n",
       "High    0.999638  1.000000  0.999180  0.999483  0.548576\n",
       "Low     0.999290  0.999180  1.000000  0.999625  0.538985\n",
       "Close   0.999091  0.999483  0.999625  1.000000  0.542264\n",
       "Volume  0.545859  0.548576  0.538985  0.542264  1.000000"
      ]
     },
     "execution_count": 23,
     "metadata": {},
     "output_type": "execute_result"
    }
   ],
   "source": [
    "#Finding correlation among different columns\n",
    "sil.corr()"
   ]
  },
  {
   "cell_type": "code",
   "execution_count": 24,
   "metadata": {},
   "outputs": [],
   "source": [
    "# # MODEL BULIDING\n",
    "from sklearn import metrics\n",
    "from sklearn.model_selection import train_test_split\n",
    "from sklearn.metrics import recall_score"
   ]
  },
  {
   "cell_type": "code",
   "execution_count": 25,
   "metadata": {},
   "outputs": [
    {
     "data": {
      "text/html": [
       "<div>\n",
       "<style scoped>\n",
       "    .dataframe tbody tr th:only-of-type {\n",
       "        vertical-align: middle;\n",
       "    }\n",
       "\n",
       "    .dataframe tbody tr th {\n",
       "        vertical-align: top;\n",
       "    }\n",
       "\n",
       "    .dataframe thead th {\n",
       "        text-align: right;\n",
       "    }\n",
       "</style>\n",
       "<table border=\"1\" class=\"dataframe\">\n",
       "  <thead>\n",
       "    <tr style=\"text-align: right;\">\n",
       "      <th></th>\n",
       "      <th>Open</th>\n",
       "      <th>High</th>\n",
       "      <th>Low</th>\n",
       "      <th>Volume</th>\n",
       "    </tr>\n",
       "  </thead>\n",
       "  <tbody>\n",
       "    <tr>\n",
       "      <td>0</td>\n",
       "      <td>5.420</td>\n",
       "      <td>5.420</td>\n",
       "      <td>5.320</td>\n",
       "      <td>27560.0</td>\n",
       "    </tr>\n",
       "    <tr>\n",
       "      <td>1</td>\n",
       "      <td>5.375</td>\n",
       "      <td>5.380</td>\n",
       "      <td>5.160</td>\n",
       "      <td>13515.0</td>\n",
       "    </tr>\n",
       "    <tr>\n",
       "      <td>2</td>\n",
       "      <td>5.205</td>\n",
       "      <td>5.215</td>\n",
       "      <td>5.150</td>\n",
       "      <td>4729.0</td>\n",
       "    </tr>\n",
       "    <tr>\n",
       "      <td>3</td>\n",
       "      <td>5.170</td>\n",
       "      <td>5.215</td>\n",
       "      <td>5.150</td>\n",
       "      <td>5375.0</td>\n",
       "    </tr>\n",
       "    <tr>\n",
       "      <td>4</td>\n",
       "      <td>5.190</td>\n",
       "      <td>5.230</td>\n",
       "      <td>5.170</td>\n",
       "      <td>4278.0</td>\n",
       "    </tr>\n",
       "    <tr>\n",
       "      <td>...</td>\n",
       "      <td>...</td>\n",
       "      <td>...</td>\n",
       "      <td>...</td>\n",
       "      <td>...</td>\n",
       "    </tr>\n",
       "    <tr>\n",
       "      <td>5703</td>\n",
       "      <td>18.770</td>\n",
       "      <td>18.770</td>\n",
       "      <td>18.300</td>\n",
       "      <td>33392.0</td>\n",
       "    </tr>\n",
       "    <tr>\n",
       "      <td>5704</td>\n",
       "      <td>18.565</td>\n",
       "      <td>18.585</td>\n",
       "      <td>18.120</td>\n",
       "      <td>5841.0</td>\n",
       "    </tr>\n",
       "    <tr>\n",
       "      <td>5705</td>\n",
       "      <td>18.160</td>\n",
       "      <td>18.240</td>\n",
       "      <td>17.705</td>\n",
       "      <td>618.0</td>\n",
       "    </tr>\n",
       "    <tr>\n",
       "      <td>5706</td>\n",
       "      <td>17.715</td>\n",
       "      <td>17.715</td>\n",
       "      <td>17.320</td>\n",
       "      <td>230.0</td>\n",
       "    </tr>\n",
       "    <tr>\n",
       "      <td>5707</td>\n",
       "      <td>17.672</td>\n",
       "      <td>18.163</td>\n",
       "      <td>17.625</td>\n",
       "      <td>0.0</td>\n",
       "    </tr>\n",
       "  </tbody>\n",
       "</table>\n",
       "<p>5708 rows × 4 columns</p>\n",
       "</div>"
      ],
      "text/plain": [
       "        Open    High     Low   Volume\n",
       "0      5.420   5.420   5.320  27560.0\n",
       "1      5.375   5.380   5.160  13515.0\n",
       "2      5.205   5.215   5.150   4729.0\n",
       "3      5.170   5.215   5.150   5375.0\n",
       "4      5.190   5.230   5.170   4278.0\n",
       "...      ...     ...     ...      ...\n",
       "5703  18.770  18.770  18.300  33392.0\n",
       "5704  18.565  18.585  18.120   5841.0\n",
       "5705  18.160  18.240  17.705    618.0\n",
       "5706  17.715  17.715  17.320    230.0\n",
       "5707  17.672  18.163  17.625      0.0\n",
       "\n",
       "[5708 rows x 4 columns]"
      ]
     },
     "execution_count": 25,
     "metadata": {},
     "output_type": "execute_result"
    }
   ],
   "source": [
    "# Defining Independent and Dependent variables\n",
    "x=sil.iloc[ :,[1,2,3,5]]\n",
    "x"
   ]
  },
  {
   "cell_type": "code",
   "execution_count": 26,
   "metadata": {},
   "outputs": [
    {
     "data": {
      "text/html": [
       "<div>\n",
       "<style scoped>\n",
       "    .dataframe tbody tr th:only-of-type {\n",
       "        vertical-align: middle;\n",
       "    }\n",
       "\n",
       "    .dataframe tbody tr th {\n",
       "        vertical-align: top;\n",
       "    }\n",
       "\n",
       "    .dataframe thead th {\n",
       "        text-align: right;\n",
       "    }\n",
       "</style>\n",
       "<table border=\"1\" class=\"dataframe\">\n",
       "  <thead>\n",
       "    <tr style=\"text-align: right;\">\n",
       "      <th></th>\n",
       "      <th>Close</th>\n",
       "    </tr>\n",
       "  </thead>\n",
       "  <tbody>\n",
       "    <tr>\n",
       "      <td>0</td>\n",
       "      <td>5.375</td>\n",
       "    </tr>\n",
       "    <tr>\n",
       "      <td>1</td>\n",
       "      <td>5.210</td>\n",
       "    </tr>\n",
       "    <tr>\n",
       "      <td>2</td>\n",
       "      <td>5.167</td>\n",
       "    </tr>\n",
       "    <tr>\n",
       "      <td>3</td>\n",
       "      <td>5.195</td>\n",
       "    </tr>\n",
       "    <tr>\n",
       "      <td>4</td>\n",
       "      <td>5.190</td>\n",
       "    </tr>\n",
       "    <tr>\n",
       "      <td>...</td>\n",
       "      <td>...</td>\n",
       "    </tr>\n",
       "    <tr>\n",
       "      <td>5703</td>\n",
       "      <td>18.557</td>\n",
       "    </tr>\n",
       "    <tr>\n",
       "      <td>5704</td>\n",
       "      <td>18.159</td>\n",
       "    </tr>\n",
       "    <tr>\n",
       "      <td>5705</td>\n",
       "      <td>17.762</td>\n",
       "    </tr>\n",
       "    <tr>\n",
       "      <td>5706</td>\n",
       "      <td>17.551</td>\n",
       "    </tr>\n",
       "    <tr>\n",
       "      <td>5707</td>\n",
       "      <td>17.900</td>\n",
       "    </tr>\n",
       "  </tbody>\n",
       "</table>\n",
       "<p>5708 rows × 1 columns</p>\n",
       "</div>"
      ],
      "text/plain": [
       "       Close\n",
       "0      5.375\n",
       "1      5.210\n",
       "2      5.167\n",
       "3      5.195\n",
       "4      5.190\n",
       "...      ...\n",
       "5703  18.557\n",
       "5704  18.159\n",
       "5705  17.762\n",
       "5706  17.551\n",
       "5707  17.900\n",
       "\n",
       "[5708 rows x 1 columns]"
      ]
     },
     "execution_count": 26,
     "metadata": {},
     "output_type": "execute_result"
    }
   ],
   "source": [
    "y=sil.iloc[:,[4]]\n",
    "y"
   ]
  },
  {
   "cell_type": "code",
   "execution_count": 27,
   "metadata": {},
   "outputs": [],
   "source": [
    "# Splitting the data into training and testing data\n",
    "from sklearn.model_selection import train_test_split\n",
    "x_train,x_test,y_train,y_test= train_test_split(x,y,test_size=0.25, random_state=0)"
   ]
  },
  {
   "cell_type": "code",
   "execution_count": 28,
   "metadata": {},
   "outputs": [
    {
     "data": {
      "text/plain": [
       "(4281, 4)"
      ]
     },
     "execution_count": 28,
     "metadata": {},
     "output_type": "execute_result"
    }
   ],
   "source": [
    "x_train.shape"
   ]
  },
  {
   "cell_type": "code",
   "execution_count": 29,
   "metadata": {},
   "outputs": [
    {
     "data": {
      "text/plain": [
       "(1427, 4)"
      ]
     },
     "execution_count": 29,
     "metadata": {},
     "output_type": "execute_result"
    }
   ],
   "source": [
    "x_test.shape"
   ]
  },
  {
   "cell_type": "code",
   "execution_count": 30,
   "metadata": {},
   "outputs": [
    {
     "data": {
      "text/plain": [
       "(4281, 1)"
      ]
     },
     "execution_count": 30,
     "metadata": {},
     "output_type": "execute_result"
    }
   ],
   "source": [
    "y_train.shape"
   ]
  },
  {
   "cell_type": "code",
   "execution_count": 31,
   "metadata": {},
   "outputs": [
    {
     "data": {
      "text/plain": [
       "(1427, 1)"
      ]
     },
     "execution_count": 31,
     "metadata": {},
     "output_type": "execute_result"
    }
   ],
   "source": [
    "y_test.shape"
   ]
  },
  {
   "cell_type": "code",
   "execution_count": 32,
   "metadata": {},
   "outputs": [],
   "source": [
    "#USING DECISION TREE\n",
    "from sklearn import tree\n",
    "model=tree.DecisionTreeRegressor()\n",
    "model_dt=model.fit(x_train,y_train)"
   ]
  },
  {
   "cell_type": "code",
   "execution_count": 33,
   "metadata": {},
   "outputs": [
    {
     "data": {
      "text/plain": [
       "array([16.06 , 23.112, 17.992, ...,  5.033, 18.206, 18.257])"
      ]
     },
     "execution_count": 33,
     "metadata": {},
     "output_type": "execute_result"
    }
   ],
   "source": [
    "y_pred= model_dt.predict(x_test)\n",
    "y_pred"
   ]
  },
  {
   "cell_type": "code",
   "execution_count": 34,
   "metadata": {},
   "outputs": [
    {
     "data": {
      "text/plain": [
       "(1427,)"
      ]
     },
     "execution_count": 34,
     "metadata": {},
     "output_type": "execute_result"
    }
   ],
   "source": [
    "y_pred.shape"
   ]
  },
  {
   "cell_type": "code",
   "execution_count": 35,
   "metadata": {},
   "outputs": [
    {
     "data": {
      "text/plain": [
       "99.89663269847819"
      ]
     },
     "execution_count": 35,
     "metadata": {},
     "output_type": "execute_result"
    }
   ],
   "source": [
    "from sklearn.metrics import r2_score\n",
    "r2_score(y_pred,y_test)*100"
   ]
  },
  {
   "cell_type": "code",
   "execution_count": 36,
   "metadata": {},
   "outputs": [
    {
     "name": "stdout",
     "output_type": "stream",
     "text": [
      "Enter Open value:\n",
      "24\n",
      "Enter High value:\n",
      "24\n",
      "Enter Low value:\n",
      "24\n",
      "Enter Volume value:\n",
      "24\n"
     ]
    },
    {
     "data": {
      "text/plain": [
       "array([24.12])"
      ]
     },
     "execution_count": 36,
     "metadata": {},
     "output_type": "execute_result"
    }
   ],
   "source": [
    "l=[]\n",
    "for i in range(0,4):\n",
    "    print(\"Enter \"+x.columns[i],\"value:\")\n",
    "    z=float(input())\n",
    "    l.append(z)\n",
    "l=np.array(l).reshape(1,-1)\n",
    "solution=model_dt.predict(l)\n",
    "solution"
   ]
  },
  {
   "cell_type": "code",
   "execution_count": 38,
   "metadata": {},
   "outputs": [
    {
     "data": {
      "text/plain": [
       "array([24.12])"
      ]
     },
     "execution_count": 38,
     "metadata": {},
     "output_type": "execute_result"
    }
   ],
   "source": [
    "model_dt.predict([[24.2,24.44,24,56333]])"
   ]
  },
  {
   "cell_type": "code",
   "execution_count": null,
   "metadata": {},
   "outputs": [],
   "source": []
  }
 ],
 "metadata": {
  "kernelspec": {
   "display_name": "Python 3",
   "language": "python",
   "name": "python3"
  },
  "language_info": {
   "codemirror_mode": {
    "name": "ipython",
    "version": 3
   },
   "file_extension": ".py",
   "mimetype": "text/x-python",
   "name": "python",
   "nbconvert_exporter": "python",
   "pygments_lexer": "ipython3",
   "version": "3.7.4"
  }
 },
 "nbformat": 4,
 "nbformat_minor": 2
}
